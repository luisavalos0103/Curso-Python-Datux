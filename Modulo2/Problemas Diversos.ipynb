{
 "cells": [
  {
   "cell_type": "markdown",
   "metadata": {},
   "source": [
    "# PROBLEMAS DIVERSOS"
   ]
  },
  {
   "cell_type": "markdown",
   "metadata": {},
   "source": [
    "<h3>1.</h3>\n",
    "Realizar una función que permita la carga de n alumnos. Por cada alumno se deberá preguntar el nombre completo y permitir el ingreso de 3 notas. Las notas deben estar comprendidas entre 0 y 10. Devolver el listado de alumnos."
   ]
  },
  {
   "cell_type": "code",
   "execution_count": 2,
   "metadata": {},
   "outputs": [],
   "source": [
    "## ingresa nota\n",
    "def ingresar_nota():\n",
    "\n",
    "    try:\n",
    "        nota = float(input(\"Introduce la nota (0 - 10): \"))\n",
    "        \n",
    "        if nota >=0 and nota <= 10:\n",
    "            return nota  # Importante romper la iteración si todo ha salido bien\n",
    "        else:\n",
    "            print('Nota fuera del rango')\n",
    "            ingresar_nota()\n",
    "    except:\n",
    "        print(\"Ha ocurrido un error, introduzca correctamente la nota\")\n",
    "        ingresar_nota()\n",
    "\n"
   ]
  },
  {
   "cell_type": "code",
   "execution_count": 3,
   "metadata": {},
   "outputs": [],
   "source": [
    "# Crea la lista con los nombres y notas\n",
    "\n",
    "def listar_alumnos(cantidad_alumnos):\n",
    "    lista_alumnos = []\n",
    "    for i in range(cantidad_alumnos):\n",
    "        alumno = {}\n",
    "        # Ingreso de nombre de alumno\n",
    "        alumno['nombre'] = input('Ingrese el nombre del alumno {}: '.format(i+1))\n",
    "    \n",
    "        # ingreso de notas\n",
    "        alumno['nota1'] = ingresar_nota()\n",
    "        alumno['nota2'] = ingresar_nota()\n",
    "        alumno['nota3'] = ingresar_nota()\n",
    "    \n",
    "        # agregando alumno a lista alumnos\n",
    "        lista_alumnos.append(alumno)\n",
    "    \n",
    "    return lista_alumnos\n",
    "\n",
    "\n"
   ]
  },
  {
   "cell_type": "code",
   "execution_count": 6,
   "metadata": {},
   "outputs": [
    {
     "name": "stdin",
     "output_type": "stream",
     "text": [
      "Ingrese el nombre del alumno 1:  Jorge\n",
      "Introduce la nota(0 - 10):  6\n",
      "Introduce la nota(0 - 10):  6\n",
      "Introduce la nota(0 - 10):  7\n",
      "Ingrese el nombre del alumno 2:  Joan\n",
      "Introduce la nota(0 - 10):  7\n",
      "Introduce la nota(0 - 10):  7\n",
      "Introduce la nota(0 - 10):  6\n",
      "Ingrese el nombre del alumno 3:  Luis\n",
      "Introduce la nota(0 - 10):  8\n",
      "Introduce la nota(0 - 10):  7\n",
      "Introduce la nota(0 - 10):  7\n"
     ]
    },
    {
     "data": {
      "text/plain": [
       "[{'nombre': 'Jorge', 'nota1': 6.0, 'nota2': 6.0, 'nota3': 7.0},\n",
       " {'nombre': 'Joan', 'nota1': 7.0, 'nota2': 7.0, 'nota3': 6.0},\n",
       " {'nombre': 'Luis', 'nota1': 8.0, 'nota2': 7.0, 'nota3': 7.0}]"
      ]
     },
     "execution_count": 6,
     "metadata": {},
     "output_type": "execute_result"
    }
   ],
   "source": [
    "listado = listar_alumnos(3)\n",
    "listado"
   ]
  },
  {
   "cell_type": "markdown",
   "metadata": {},
   "source": [
    "### 2.\n",
    "Definir una función que dado un listado de alumnos evalúe cuántos aprobaron y cuántos desaprobaron, teniendo en cuenta que se aprueba con 4. La nota será el promedio de las 3 notas para cada alumno."
   ]
  },
  {
   "cell_type": "code",
   "execution_count": null,
   "metadata": {},
   "outputs": [],
   "source": [
    "def aprobaron():\n",
    "    m = int(input(\"Ingrese el numero de alumnos: \"))\n",
    "    listado = listar_alumnos(m)\n",
    "    c=0\n",
    "    for i in range(m):\n",
    "        n1 = listado[i]['nota1']\n",
    "        n2 = listado[i]['nota2']\n",
    "        n3 = listado[i]['nota3']\n",
    "        Prom = (n1+n2+n3)/3\n",
    "        if Prom < 4:\n",
    "            c+=1\n",
    "    print(\"La cantidad de aprobados es: {}\".format(m-c))\n",
    "    \n",
    "aprobaron()"
   ]
  },
  {
   "cell_type": "markdown",
   "metadata": {},
   "source": [
    "### 3.\n",
    "Informar el promedio de nota del curso total."
   ]
  },
  {
   "cell_type": "code",
   "execution_count": 4,
   "metadata": {},
   "outputs": [
    {
     "name": "stdin",
     "output_type": "stream",
     "text": [
      "Ingrese el nombre del alumno 1:  Luis\n",
      "Introduce la nota(0 - 10):  6\n",
      "Introduce la nota(0 - 10):  7\n",
      "Introduce la nota(0 - 10):  6\n",
      "Ingrese el nombre del alumno 2:  Jorge\n",
      "Introduce la nota(0 - 10):  8\n",
      "Introduce la nota(0 - 10):  7\n",
      "Introduce la nota(0 - 10):  7\n"
     ]
    },
    {
     "name": "stdout",
     "output_type": "stream",
     "text": [
      "El promedio del curso es: 6.833\n"
     ]
    }
   ],
   "source": [
    "def promedio_curso(n):\n",
    "    listado = listar_alumnos(n)\n",
    "    c=0\n",
    "    S=0\n",
    "    Promedio=[]\n",
    "    for i in range(n):\n",
    "        \n",
    "        n1 = listado[i]['nota1']\n",
    "        n2 = listado[i]['nota2']\n",
    "        n3 = listado[i]['nota3']\n",
    "        Prom = (n1+n2+n3)/3\n",
    "        Promedio.append(Prom)\n",
    "        \n",
    "    for j in Promedio:\n",
    "        S = S + j \n",
    "        \n",
    "    \n",
    "    Total = S / n\n",
    "\n",
    "    \n",
    "    print(\"El promedio del curso es: {0:.3f}\".format(Total))\n",
    "    \n",
    "promedio_curso(2)"
   ]
  },
  {
   "cell_type": "code",
   "execution_count": null,
   "metadata": {},
   "outputs": [],
   "source": []
  },
  {
   "cell_type": "markdown",
   "metadata": {},
   "source": [
    "### 4.\n",
    "Realizar una función que indique quién tuvo el promedio más alto y quién tuvo la nota promedio más baja."
   ]
  },
  {
   "cell_type": "code",
   "execution_count": 5,
   "metadata": {},
   "outputs": [
    {
     "name": "stdin",
     "output_type": "stream",
     "text": [
      "Ingrese el nombre del alumno 1:  luis\n",
      "Introduce la nota(0 - 10):  5\n",
      "Introduce la nota(0 - 10):  6\n",
      "Introduce la nota(0 - 10):  7\n",
      "Ingrese el nombre del alumno 2:  julio\n",
      "Introduce la nota(0 - 10):  7\n",
      "Introduce la nota(0 - 10):  9\n",
      "Introduce la nota(0 - 10):  7\n"
     ]
    },
    {
     "name": "stdout",
     "output_type": "stream",
     "text": [
      "El promedio más alto fue de: julio\n",
      "El promedio más bajo fue de: luis\n"
     ]
    }
   ],
   "source": [
    "def promedio_max_min(n):\n",
    "    listado = listar_alumnos(n)\n",
    "    c=0\n",
    "    Promedio=[]\n",
    "    for i in range(n):\n",
    "        \n",
    "        n1 = listado[i]['nota1']\n",
    "        n2 = listado[i]['nota2']\n",
    "        n3 = listado[i]['nota3']\n",
    "        Prom = (n1+n2+n3)/3\n",
    "        Promedio.append(Prom)\n",
    "        \n",
    "    maximo=max(Promedio)\n",
    "    minimo=min(Promedio)\n",
    "    a=Promedio.index(maximo)\n",
    "    b=Promedio.index(minimo)\n",
    "    \n",
    "    print(\"El promedio más alto fue de: {}\".format(listado[a]['nombre']))\n",
    "    print(\"El promedio más bajo fue de: {}\".format(listado[b]['nombre']))\n",
    "        \n",
    "promedio_max_min(2)"
   ]
  },
  {
   "cell_type": "code",
   "execution_count": null,
   "metadata": {},
   "outputs": [],
   "source": []
  },
  {
   "cell_type": "code",
   "execution_count": null,
   "metadata": {},
   "outputs": [],
   "source": []
  },
  {
   "cell_type": "markdown",
   "metadata": {},
   "source": [
    "### 5.\n",
    "Realizar una función que permita buscar un alumno por nombre, siendo el nombre completo o parcial, y devuelva una lista con los n alumnos que concuerden con ese nombre junto con todos sus datos, incluido el promedio de sus notas."
   ]
  },
  {
   "cell_type": "code",
   "execution_count": 7,
   "metadata": {},
   "outputs": [
    {
     "name": "stdout",
     "output_type": "stream",
     "text": [
      "[{'nombre': 'Jorge', 'nota1': 6.0, 'nota2': 6.0, 'nota3': 7.0}, {'nombre': 'Joan', 'nota1': 7.0, 'nota2': 7.0, 'nota3': 6.0}, {'nombre': 'Luis', 'nota1': 8.0, 'nota2': 7.0, 'nota3': 7.0}]\n"
     ]
    }
   ],
   "source": [
    "print(listado)"
   ]
  },
  {
   "cell_type": "code",
   "execution_count": 12,
   "metadata": {
    "collapsed": true,
    "jupyter": {
     "outputs_hidden": true
    }
   },
   "outputs": [
    {
     "data": {
      "text/plain": [
       "[{'nombre': 'Jorge',\n",
       "  'nota1': 6.0,\n",
       "  'nota2': 6.0,\n",
       "  'nota3': 7.0,\n",
       "  'Promedio': 6.333},\n",
       " {'nombre': 'Joan',\n",
       "  'nota1': 7.0,\n",
       "  'nota2': 7.0,\n",
       "  'nota3': 6.0,\n",
       "  'Promedio': 6.667},\n",
       " {'nombre': 'Luis',\n",
       "  'nota1': 8.0,\n",
       "  'nota2': 7.0,\n",
       "  'nota3': 7.0,\n",
       "  'Promedio': 7.333}]"
      ]
     },
     "execution_count": 12,
     "metadata": {},
     "output_type": "execute_result"
    }
   ],
   "source": [
    "for i in range(len(listado)):\n",
    "        \n",
    "        n1 = listado[i]['nota1']\n",
    "        n2 = listado[i]['nota2']\n",
    "        n3 = listado[i]['nota3']\n",
    "        prom = round((n1+n2+n3)/3,3)\n",
    "        listado[i]['Promedio'] = prom\n",
    "\n",
    "listado\n",
    "    \n"
   ]
  },
  {
   "cell_type": "code",
   "execution_count": 20,
   "metadata": {},
   "outputs": [],
   "source": [
    "def Busqueda(texto):\n",
    "    try:\n",
    "        for i in range(3):\n",
    "            if texto == listado[i]['nombre']:\n",
    "                print(listado[i])\n",
    "    except:    \n",
    "        print(\"No se ha encontrado alumnos con ese nombre:\")\n",
    "            \n",
    "Busqueda(\"lucas\")"
   ]
  },
  {
   "cell_type": "code",
   "execution_count": null,
   "metadata": {},
   "outputs": [],
   "source": []
  }
 ],
 "metadata": {
  "kernelspec": {
   "display_name": "Python 3",
   "language": "python",
   "name": "python3"
  },
  "language_info": {
   "codemirror_mode": {
    "name": "ipython",
    "version": 3
   },
   "file_extension": ".py",
   "mimetype": "text/x-python",
   "name": "python",
   "nbconvert_exporter": "python",
   "pygments_lexer": "ipython3",
   "version": "3.8.5"
  }
 },
 "nbformat": 4,
 "nbformat_minor": 4
}

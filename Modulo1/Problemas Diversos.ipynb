{
 "cells": [
  {
   "cell_type": "markdown",
   "metadata": {},
   "source": [
    "# PROBLEMAS DIVERSOS"
   ]
  },
  {
   "cell_type": "markdown",
   "metadata": {},
   "source": [
    "<h3>1.</h3>\n",
    "Imagina que acabas de abrir una nueva cuenta de ahorros que te ofrece el 4% de interés al año. Estos ahorros debido a intereses, que no se cobran hasta finales de año, se te añaden al balance final de tu cuenta de ahorros. Escribir un programa que comience leyendo la cantidad de dinero depositada en la cuenta de ahorros, introducida por el usuario. Después el programa debe calcular y mostrar por pantalla la cantidad de ahorros tras el primer, segundo y tercer años. Redondear cada cantidad a dos decimales."
   ]
  },
  {
   "cell_type": "code",
   "execution_count": 8,
   "metadata": {},
   "outputs": [
    {
     "name": "stdin",
     "output_type": "stream",
     "text": [
      "Ingrese el monto a depositar:  2000\n"
     ]
    },
    {
     "name": "stdout",
     "output_type": "stream",
     "text": [
      "Tras el primer año, Ud habrá acumulado: 2080.00\n",
      "Tras el segundo año, Ud habrá acumulado: 2163.20\n",
      "Tras el tercer año, Ud habrá acumulado: 2249.73\n"
     ]
    }
   ],
   "source": [
    "deposito = float(input(\"Ingrese el monto a depositar: \"))\n",
    "\n",
    "saldo_1a = deposito*1.04\n",
    "saldo_2a = saldo_1a*1.04\n",
    "saldo_3a = saldo_2a*1.04\n",
    "\n",
    "print(\"Tras el primer año, Ud habrá acumulado: {0:.2f}\".format(saldo_1a))\n",
    "print(\"Tras el segundo año, Ud habrá acumulado: {0:.2f}\".format(saldo_2a))\n",
    "print(\"Tras el tercer año, Ud habrá acumulado: {0:.2f}\".format(saldo_3a))\n"
   ]
  },
  {
   "cell_type": "markdown",
   "metadata": {},
   "source": [
    "### 2.\n",
    "Escriba un programa que pida los coeficientes de una ecuación de segundo grado <code>(a x² + b x + c = 0)</code> y escriba la solución.\n",
    "\n",
    "Se recuerda que una ecuación de segundo grado puede no tener solución, tener una solución única, tener dos soluciones o que todos los números sean solución."
   ]
  },
  {
   "cell_type": "markdown",
   "metadata": {},
   "source": [
    "<img src='https://i.pinimg.com/originals/d3/f7/01/d3f701528ad56ce0f5a98d7c91722fd7.png'>"
   ]
  },
  {
   "cell_type": "markdown",
   "metadata": {},
   "source": [
    "Su programa debe indicar:\n",
    "- En caso la ecuación cuadrática tenga solución real, su programa debe brindar la solución\n",
    "- En caso su ecuación no tenga solución real, su programa debe brindar un mensaje que diga \"Ecuación no presenta solución real\""
   ]
  },
  {
   "cell_type": "code",
   "execution_count": 9,
   "metadata": {},
   "outputs": [
    {
     "name": "stdin",
     "output_type": "stream",
     "text": [
      "Ingrese coeficiente a: 1\n",
      "Ingrese coeficiente b: 4\n",
      "Ingrese coeficiente c: 4\n"
     ]
    },
    {
     "name": "stdout",
     "output_type": "stream",
     "text": [
      "La raíz única es -2.000\n"
     ]
    }
   ],
   "source": [
    "a = float(input(\"Ingrese coeficiente a:\"))\n",
    "b = float(input(\"Ingrese coeficiente b:\"))\n",
    "c = float(input(\"Ingrese coeficiente c:\"))\n",
    "\n",
    "discriminante = b**2 - 4 * a * c\n",
    "if discriminante >= 0:\n",
    "    if discriminante == 0:\n",
    "        x = -b / (2 * a)\n",
    "        print(\"La raíz única es {:.3f}\".format(x))\n",
    "    else:\n",
    "        x1 = (-b + (discriminante)**(1/2)) / (2 * a)\n",
    "        x2 = (-b - (discriminante)**(1/2)) / (2 * a)\n",
    "        print(\"La raíz real x1 es {:.3f}\".format(x1))\n",
    "        print(\"La raíz real x2 es {:.3f}\".format(x2))\n",
    "else:\n",
    "    discriminante = abs(discriminante)\n",
    "    parteReal = -b / (2 * a)\n",
    "    parteImaginaria = (discriminante)**(1/2) / (2 * a)\n",
    "    print(\"La raíz compleja x1 es {:.3f} + {:.3f}i\".format(parteReal, parteImaginaria))\n",
    "    print(\"La raíz compleja x2 es {:.3f} - {:.3f}i\".format(parteReal, parteImaginaria)) "
   ]
  },
  {
   "cell_type": "code",
   "execution_count": null,
   "metadata": {},
   "outputs": [],
   "source": []
  }
 ],
 "metadata": {
  "kernelspec": {
   "display_name": "Python 3",
   "language": "python",
   "name": "python3"
  },
  "language_info": {
   "codemirror_mode": {
    "name": "ipython",
    "version": 3
   },
   "file_extension": ".py",
   "mimetype": "text/x-python",
   "name": "python",
   "nbconvert_exporter": "python",
   "pygments_lexer": "ipython3",
   "version": "3.8.5"
  }
 },
 "nbformat": 4,
 "nbformat_minor": 4
}
